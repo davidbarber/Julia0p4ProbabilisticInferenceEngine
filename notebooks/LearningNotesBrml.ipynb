{
 "cells": [
  {
   "cell_type": "code",
   "execution_count": null,
   "metadata": {
    "collapsed": true
   },
   "outputs": [],
   "source": [
    "# cd(\"/Users/elfflorin/Documents/Projects/julia.hw/jpie\"); using Lexicon; using brml"
   ]
  },
  {
   "cell_type": "markdown",
   "metadata": {},
   "source": [
    "###condp() functionality"
   ]
  },
  {
   "cell_type": "code",
   "execution_count": 14,
   "metadata": {
    "collapsed": false
   },
   "outputs": [
    {
     "data": {
      "text/plain": [
       "4x2x3 Array{Float64,3}:\n",
       "[:, :, 1] =\n",
       " 1.0  5.0\n",
       " 2.0  6.0\n",
       " 3.0  7.0\n",
       " 4.0  8.0\n",
       "\n",
       "[:, :, 2] =\n",
       " 11.0  15.0\n",
       " 12.0  16.0\n",
       " 13.0  17.0\n",
       " 14.0  18.0\n",
       "\n",
       "[:, :, 3] =\n",
       " 201.0  205.0\n",
       " 202.0  206.0\n",
       " 203.0  207.0\n",
       " 204.0  208.0"
      ]
     },
     "execution_count": 14,
     "metadata": {},
     "output_type": "execute_result"
    }
   ],
   "source": [
    "# generate a toy matrix to follow its cells movements\n",
    "N = 4; M = 2; L = 3\n",
    "p = zeros(N, M, L)\n",
    "for z = 1:L\n",
    "    for y = 1:M\n",
    "        for x = 1:N\n",
    "            p[x, y, z] = x + (y - 1) * N  + (z - 1) * 10^(z - 1)\n",
    "        end\n",
    "    end\n",
    "end\n",
    "p"
   ]
  },
  {
   "cell_type": "code",
   "execution_count": 15,
   "metadata": {
    "collapsed": false
   },
   "outputs": [
    {
     "name": "stdout",
     "output_type": "stream",
     "text": [
      "elapsed time: 0.059868719 seconds (1284232 bytes allocated)\n"
     ]
    },
    {
     "data": {
      "text/plain": [
       "3x4x2 Array{Float64,3}:\n",
       "[:, :, 1] =\n",
       "   1.0    2.0    3.0    4.0\n",
       "  11.0   12.0   13.0   14.0\n",
       " 201.0  202.0  203.0  204.0\n",
       "\n",
       "[:, :, 2] =\n",
       "   5.0    6.0    7.0    8.0\n",
       "  15.0   16.0   17.0   18.0\n",
       " 205.0  206.0  207.0  208.0"
      ]
     },
     "execution_count": 15,
     "metadata": {},
     "output_type": "execute_result"
    }
   ],
   "source": [
    "@time permutedims(p, (3, 1, 2))"
   ]
  },
  {
   "cell_type": "code",
   "execution_count": 16,
   "metadata": {
    "collapsed": false
   },
   "outputs": [
    {
     "name": "stdout",
     "output_type": "stream",
     "text": [
      "elapsed time: 0.032053275 seconds (561228 bytes allocated)\n"
     ]
    },
    {
     "data": {
      "text/plain": [
       "3x4x2 Array{Float64,3}:\n",
       "[:, :, 1] =\n",
       " 1.0  4.0   7.0  12.0\n",
       " 2.0  5.0   8.0  13.0\n",
       " 3.0  6.0  11.0  14.0\n",
       "\n",
       "[:, :, 2] =\n",
       " 15.0   18.0  203.0  206.0\n",
       " 16.0  201.0  204.0  207.0\n",
       " 17.0  202.0  205.0  208.0"
      ]
     },
     "execution_count": 16,
     "metadata": {},
     "output_type": "execute_result"
    }
   ],
   "source": [
    "@time reshape(p, (3, 4, 2))"
   ]
  },
  {
   "cell_type": "code",
   "execution_count": 17,
   "metadata": {
    "collapsed": false
   },
   "outputs": [
    {
     "name": "stdout",
     "output_type": "stream",
     "text": [
      "Array{Int64,1} - size: (2,) - 2x1 column vector\n"
     ]
    },
    {
     "data": {
      "text/plain": [
       "2-element Array{Int64,1}:\n",
       " 3\n",
       " 1"
      ]
     },
     "execution_count": 17,
     "metadata": {},
     "output_type": "execute_result"
    }
   ],
   "source": [
    "# COMMA makes a difference\n",
    "println(typeof([3, 1]), \" - size: \" , size([3, 1]), \" - 2x1 column vector\")\n",
    "[3, 1]"
   ]
  },
  {
   "cell_type": "code",
   "execution_count": 18,
   "metadata": {
    "collapsed": false
   },
   "outputs": [
    {
     "name": "stdout",
     "output_type": "stream",
     "text": [
      "Array{Int64,2} - size: (1,2) - 1x2 row vector\n"
     ]
    },
    {
     "data": {
      "text/plain": [
       "1x2 Array{Int64,2}:\n",
       " 3  1"
      ]
     },
     "execution_count": 18,
     "metadata": {},
     "output_type": "execute_result"
    }
   ],
   "source": [
    "println(typeof([3 1]), \" - size: \" , size([3 1]),  \" - 1x2 row vector\")\n",
    "[3 1]"
   ]
  },
  {
   "cell_type": "code",
   "execution_count": 19,
   "metadata": {
    "collapsed": false
   },
   "outputs": [
    {
     "data": {
      "text/plain": [
       "1x2 Array{Int64,2}:\n",
       " 3  1"
      ]
     },
     "execution_count": 19,
     "metadata": {},
     "output_type": "execute_result"
    }
   ],
   "source": [
    "# indices for dimensions to condition on\n",
    "dindices = [3 1]"
   ]
  },
  {
   "cell_type": "code",
   "execution_count": 20,
   "metadata": {
    "collapsed": false
   },
   "outputs": [
    {
     "data": {
      "text/plain": [
       "(Int64,Int64,Int64)"
      ]
     },
     "execution_count": 20,
     "metadata": {},
     "output_type": "execute_result"
    }
   ],
   "source": [
    "# how many dimensions are in p? allvars\n",
    "# size() returns a vector with length of each dimension\n",
    "allvars = 1: length(size(p))\n",
    "sizevars = size(p)\n",
    "typeof(sizevars)"
   ]
  },
  {
   "cell_type": "code",
   "execution_count": 21,
   "metadata": {
    "collapsed": false
   },
   "outputs": [
    {
     "data": {
      "text/plain": [
       "1-element Array{Int64,1}:\n",
       " 2"
      ]
     },
     "execution_count": 21,
     "metadata": {},
     "output_type": "execute_result"
    }
   ],
   "source": [
    "# what are the dimensions not included in conditioning\n",
    "condvars = setdiff(allvars, dindices)"
   ]
  },
  {
   "cell_type": "markdown",
   "metadata": {},
   "source": [
    "####_transform the raw data into probability distributions using 2 sets: conditioning (dindices) and conditioned (condvars)_"
   ]
  },
  {
   "cell_type": "code",
   "execution_count": 22,
   "metadata": {
    "collapsed": false
   },
   "outputs": [
    {
     "data": {
      "text/plain": [
       "3x4x2 Array{Float64,3}:\n",
       "[:, :, 1] =\n",
       "   1.0    2.0    3.0    4.0\n",
       "  11.0   12.0   13.0   14.0\n",
       " 201.0  202.0  203.0  204.0\n",
       "\n",
       "[:, :, 2] =\n",
       "   5.0    6.0    7.0    8.0\n",
       "  15.0   16.0   17.0   18.0\n",
       " 205.0  206.0  207.0  208.0"
      ]
     },
     "execution_count": 22,
     "metadata": {},
     "output_type": "execute_result"
    }
   ],
   "source": [
    "# create new matrix by swapping the matrix elements based on \n",
    "# the permutation of the dimension indices \n",
    "# in this case from NxMxL to LxNxM\n",
    "# grouping the elements in LxN sets along the M dimension\n",
    "newp = deepcopy(permutedims(p, [dindices condvars]))"
   ]
  },
  {
   "cell_type": "code",
   "execution_count": 23,
   "metadata": {
    "collapsed": false
   },
   "outputs": [
    {
     "data": {
      "text/plain": [
       "12x2 Array{Float64,2}:\n",
       "   1.0    5.0\n",
       "  11.0   15.0\n",
       " 201.0  205.0\n",
       "   2.0    6.0\n",
       "  12.0   16.0\n",
       " 202.0  206.0\n",
       "   3.0    7.0\n",
       "  13.0   17.0\n",
       " 203.0  207.0\n",
       "   4.0    8.0\n",
       "  14.0   18.0\n",
       " 204.0  208.0"
      ]
     },
     "execution_count": 23,
     "metadata": {},
     "output_type": "execute_result"
    }
   ],
   "source": [
    "# reshape the new matrix for calculating the elements sum\n",
    "# for the condvars (M = 2 in this case) sets of elements \n",
    "# in column vector format with condvars columns\n",
    "# use prod() to use the cardinality for each set as dimension\n",
    "# in this case (L*N) for each of the condvars (M) columns\n",
    "# each of the condvars (M) sets is normalized as a distribution\n",
    "newp = reshape(newp, prod(sizevars[dindices]), prod(sizevars[condvars]))"
   ]
  },
  {
   "cell_type": "code",
   "execution_count": 24,
   "metadata": {
    "collapsed": false
   },
   "outputs": [
    {
     "data": {
      "text/plain": [
       "12x2 Array{Float64,2}:\n",
       " 870.0  918.0\n",
       " 870.0  918.0\n",
       " 870.0  918.0\n",
       " 870.0  918.0\n",
       " 870.0  918.0\n",
       " 870.0  918.0\n",
       " 870.0  918.0\n",
       " 870.0  918.0\n",
       " 870.0  918.0\n",
       " 870.0  918.0\n",
       " 870.0  918.0\n",
       " 870.0  918.0"
      ]
     },
     "execution_count": 24,
     "metadata": {},
     "output_type": "execute_result"
    }
   ],
   "source": [
    "# calculate the sum of all elements in the \n",
    "# condvars (M=2) sets; replicate\n",
    "# the results in a matrix similar to current data matrix\n",
    "sump = repmat(sum(newp, 1), size(newp, 1), 1)"
   ]
  },
  {
   "cell_type": "code",
   "execution_count": 25,
   "metadata": {
    "collapsed": false
   },
   "outputs": [
    {
     "data": {
      "text/plain": [
       "1"
      ]
     },
     "execution_count": 25,
     "metadata": {},
     "output_type": "execute_result"
    }
   ],
   "source": [
    "int(sum(newp[:,2] ./ sump[:, 2]))"
   ]
  },
  {
   "cell_type": "code",
   "execution_count": 26,
   "metadata": {
    "collapsed": false
   },
   "outputs": [
    {
     "data": {
      "text/plain": [
       "12x2 Array{Float64,2}:\n",
       " 0.00114943  0.00544662\n",
       " 0.0126437   0.0163399 \n",
       " 0.231034    0.223312  \n",
       " 0.00229885  0.00653595\n",
       " 0.0137931   0.0174292 \n",
       " 0.232184    0.224401  \n",
       " 0.00344828  0.00762527\n",
       " 0.0149425   0.0185185 \n",
       " 0.233333    0.22549   \n",
       " 0.0045977   0.0087146 \n",
       " 0.016092    0.0196078 \n",
       " 0.234483    0.22658   "
      ]
     },
     "execution_count": 26,
     "metadata": {},
     "output_type": "execute_result"
    }
   ],
   "source": [
    "# normalize the condvars (M) sets in the current data matrix\n",
    "probp = newp ./ sump"
   ]
  },
  {
   "cell_type": "code",
   "execution_count": 27,
   "metadata": {
    "collapsed": false
   },
   "outputs": [
    {
     "data": {
      "text/plain": [
       "1x2 Array{Float64,2}:\n",
       " 1.0  1.0"
      ]
     },
     "execution_count": 27,
     "metadata": {},
     "output_type": "execute_result"
    }
   ],
   "source": [
    "# check each set is a probability distribution\n",
    "sum(probp, 1)"
   ]
  },
  {
   "cell_type": "markdown",
   "metadata": {},
   "source": [
    "####_rollback the operations to bring the data back into its original matrix format NxMxL_"
   ]
  },
  {
   "cell_type": "code",
   "execution_count": 28,
   "metadata": {
    "collapsed": false
   },
   "outputs": [
    {
     "data": {
      "text/plain": [
       "3x4x2 Array{Float64,3}:\n",
       "[:, :, 1] =\n",
       " 0.00114943  0.00229885  0.00344828  0.0045977\n",
       " 0.0126437   0.0137931   0.0149425   0.016092 \n",
       " 0.231034    0.232184    0.233333    0.234483 \n",
       "\n",
       "[:, :, 2] =\n",
       " 0.00544662  0.00653595  0.00762527  0.0087146\n",
       " 0.0163399   0.0174292   0.0185185   0.0196078\n",
       " 0.223312    0.224401    0.22549     0.22658  "
      ]
     },
     "execution_count": 28,
     "metadata": {},
     "output_type": "execute_result"
    }
   ],
   "source": [
    "# reshape to previous reshaped format \n",
    "# in this case from (L*N)x(1*M) to LxNxM\n",
    "probp = reshape(probp, sizevars[[dindices condvars]])"
   ]
  },
  {
   "cell_type": "code",
   "execution_count": 29,
   "metadata": {
    "collapsed": false
   },
   "outputs": [
    {
     "data": {
      "text/plain": [
       "4x2x3 Array{Float64,3}:\n",
       "[:, :, 1] =\n",
       " 0.00114943  0.00544662\n",
       " 0.00229885  0.00653595\n",
       " 0.00344828  0.00762527\n",
       " 0.0045977   0.0087146 \n",
       "\n",
       "[:, :, 2] =\n",
       " 0.0126437  0.0163399\n",
       " 0.0137931  0.0174292\n",
       " 0.0149425  0.0185185\n",
       " 0.016092   0.0196078\n",
       "\n",
       "[:, :, 3] =\n",
       " 0.231034  0.223312\n",
       " 0.232184  0.224401\n",
       " 0.233333  0.22549 \n",
       " 0.234483  0.22658 "
      ]
     },
     "execution_count": 29,
     "metadata": {},
     "output_type": "execute_result"
    }
   ],
   "source": [
    "probp = ipermutedims(probp, [dindices condvars])"
   ]
  },
  {
   "cell_type": "code",
   "execution_count": 32,
   "metadata": {
    "collapsed": false
   },
   "outputs": [
    {
     "data": {
      "text/plain": [
       "4x2x1 Array{Float64,3}:\n",
       "[:, :, 1] =\n",
       " 0.244828  0.245098\n",
       " 0.248276  0.248366\n",
       " 0.251724  0.251634\n",
       " 0.255172  0.254902"
      ]
     },
     "execution_count": 32,
     "metadata": {},
     "output_type": "execute_result"
    }
   ],
   "source": [
    "testp = sum(probp, 3)"
   ]
  },
  {
   "cell_type": "code",
   "execution_count": 33,
   "metadata": {
    "collapsed": false
   },
   "outputs": [
    {
     "data": {
      "text/plain": [
       "1x2x1 Array{Float64,3}:\n",
       "[:, :, 1] =\n",
       " 1.0  1.0"
      ]
     },
     "execution_count": 33,
     "metadata": {},
     "output_type": "execute_result"
    }
   ],
   "source": [
    "# final check\n",
    "sum(testp, 1)"
   ]
  },
  {
   "cell_type": "markdown",
   "metadata": {},
   "source": [
    "### iu-hu-huu!!!"
   ]
  },
  {
   "cell_type": "code",
   "execution_count": null,
   "metadata": {
    "collapsed": true
   },
   "outputs": [],
   "source": []
  }
 ],
 "metadata": {
  "kernelspec": {
   "display_name": "Julia 0.3.11",
   "language": "julia",
   "name": "julia-0.3"
  },
  "language_info": {
   "name": "julia",
   "version": "0.3.11"
  }
 },
 "nbformat": 4,
 "nbformat_minor": 0
}
