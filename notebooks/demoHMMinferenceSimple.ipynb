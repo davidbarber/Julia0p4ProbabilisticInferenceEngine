{
 "cells": [
  {
   "cell_type": "code",
   "execution_count": 1,
   "metadata": {
    "collapsed": false
   },
   "outputs": [
    {
     "name": "stdout",
     "output_type": "stream",
     "text": [
      "\n",
      "Available Demos:\n",
      "\n",
      "demoBurglar.jl\n",
      "demoBurglarDictPot.jl\n",
      "demoBurglarSimple.jl\n",
      "demoChainIndepRational.jl\n",
      "demoHMMburglar.jl\n",
      "demoHMMinferenceFG.jl\n",
      "demoHMMinferenceSimple.jl\n",
      "demoHMMlearn.jl\n",
      "demoMaxProd.jl\n",
      "demoPlotDAG.jl\n",
      "demoPotLogArray.jl\n",
      "demoSumProd.jl\n",
      "demoSumProdStandardiseVariables.jl\n"
     ]
    }
   ],
   "source": [
    "cd(\"/Users/elfflorin/Documents/Projects/julia.hw/jpie-v0.4\")\n",
    "include(\"setup.jl\")\n",
    "using brml"
   ]
  },
  {
   "cell_type": "markdown",
   "metadata": {},
   "source": [
    "The domain for visible states: $V = \\{1, 2, 3, 4, 5\\}$  <br/>\n",
    "The domain for hidden states: $H = \\{1, 2, 3, 4, 5, 6, 7, 8, 9, 10\\}$ <br/>\n",
    "The number of timesteps: $T = 20$"
   ]
  },
  {
   "cell_type": "code",
   "execution_count": 2,
   "metadata": {
    "collapsed": false
   },
   "outputs": [
    {
     "data": {
      "text/plain": [
       "20"
      ]
     },
     "execution_count": 2,
     "metadata": {},
     "output_type": "execute_result"
    }
   ],
   "source": [
    "V = 5  # number of visible states\n",
    "H = 10 # number of hidden states\n",
    "T = 20 # number of timesteps"
   ]
  },
  {
   "cell_type": "markdown",
   "metadata": {},
   "source": [
    "Initialize the time-series vectors **h, v** for the hidden and visible variables"
   ]
  },
  {
   "cell_type": "code",
   "execution_count": 3,
   "metadata": {
    "collapsed": false
   },
   "outputs": [
    {
     "data": {
      "text/plain": [
       "1x20 Array{Integer,2}:\n",
       " 0  0  0  0  0  0  0  0  0  0  0  0  0  0  0  0  0  0  0  0"
      ]
     },
     "execution_count": 3,
     "metadata": {},
     "output_type": "execute_result"
    }
   ],
   "source": [
    "h = zeros(Integer,1,T) # holds the state value for the hidden variable at a specific timestep\n",
    "v = zeros(Integer,1,T) # holds the state value for the visible variable at a specific timestep"
   ]
  },
  {
   "cell_type": "markdown",
   "metadata": {},
   "source": [
    "The probabilities for the hidden variable states at timestep 1: $p(h_{1})$ "
   ]
  },
  {
   "cell_type": "code",
   "execution_count": 4,
   "metadata": {
    "collapsed": false
   },
   "outputs": [
    {
     "data": {
      "text/plain": [
       "10x1 Array{Float64,2}:\n",
       " 0.119668  \n",
       " 0.115798  \n",
       " 0.113779  \n",
       " 0.00521127\n",
       " 0.111174  \n",
       " 0.0551323 \n",
       " 0.016168  \n",
       " 0.103553  \n",
       " 0.190585  \n",
       " 0.168931  "
      ]
     },
     "execution_count": 4,
     "metadata": {},
     "output_type": "execute_result"
    }
   ],
   "source": [
    "ph1 = condp(rand(H,1)) # probabilities for the states of the hidden variable at timestep 1"
   ]
  },
  {
   "cell_type": "markdown",
   "metadata": {},
   "source": [
    "Initialize the transition matrix **$phghm_{10x10}$** with\n",
    "$$\\begin{eqnarray}\n",
    "  phghm(i, j) = p(h_t = i | h_{t-1} = j) \\\\\n",
    "  \\sum_{i = 1}^{10} phghm(i, j) = 1\n",
    " \\end{eqnarray}\n",
    "$$"
   ]
  },
  {
   "cell_type": "code",
   "execution_count": 5,
   "metadata": {
    "collapsed": false
   },
   "outputs": [
    {
     "data": {
      "text/plain": [
       "10x10 Array{Float64,2}:\n",
       " 0.0  0.0  0.0  0.0  0.0  0.0  0.0  0.0  1.0  0.0\n",
       " 1.0  0.0  0.0  0.0  0.0  0.0  0.0  0.0  0.0  0.0\n",
       " 0.0  0.0  0.0  0.0  1.0  0.0  0.0  0.0  0.0  0.0\n",
       " 0.0  0.0  1.0  0.0  0.0  0.0  0.0  0.0  0.0  0.0\n",
       " 0.0  0.0  0.0  1.0  0.0  0.0  0.0  0.0  0.0  0.0\n",
       " 0.0  1.0  0.0  0.0  0.0  0.0  0.0  0.0  0.0  0.0\n",
       " 0.0  0.0  0.0  0.0  0.0  0.0  0.0  1.0  0.0  0.0\n",
       " 0.0  0.0  0.0  0.0  0.0  0.0  1.0  0.0  0.0  0.0\n",
       " 0.0  0.0  0.0  0.0  0.0  1.0  0.0  0.0  0.0  0.0\n",
       " 0.0  0.0  0.0  0.0  0.0  0.0  0.0  0.0  0.0  1.0"
      ]
     },
     "execution_count": 5,
     "metadata": {},
     "output_type": "execute_result"
    }
   ],
   "source": [
    "phghm=condp(eye(H,H)) # transition matrix with sum(phghm, 1) = 1 with phghm[i, j] = p(hg=i | hm=j)\n",
    "# shuffle the column data in phghm while keeping sum(phghm, 1) = 1\n",
    "# done as below no 2 columns have value 1.0 on the same row\n",
    "phghmtmp=condp(eye(H,H))\n",
    "r = randperm(H)\n",
    "for (i, value) in enumerate(r)\n",
    "    phghm[:, i] = phghmtmp[:, value]\n",
    "end\n",
    "phghm"
   ]
  },
  {
   "cell_type": "markdown",
   "metadata": {},
   "source": [
    "Initialize the emission matrix **$pvgh \\in R^{5x10}$** with\n",
    "$$\\begin{eqnarray}\n",
    "  pvgh(i, j) = p(v_t = i | h_{t} = j) \\\\\n",
    "  \\sum_{i = 1}^{5} pvgh(i, j) = 1\n",
    " \\end{eqnarray}\n",
    "$$"
   ]
  },
  {
   "cell_type": "code",
   "execution_count": 6,
   "metadata": {
    "collapsed": false
   },
   "outputs": [
    {
     "data": {
      "text/plain": [
       "5x10 Array{Float64,2}:\n",
       " 0.0497173  0.00971331  0.375005   …  0.287064   0.13402     0.089965\n",
       " 0.223909   0.34456     0.181126      0.145269   0.256912    0.225578\n",
       " 0.215437   0.220242    0.205583      0.0751164  0.268326    0.211817\n",
       " 0.24717    0.0528517   0.0226471     0.338549   0.336161    0.367161\n",
       " 0.263767   0.372633    0.215639      0.154002   0.00458047  0.105478"
      ]
     },
     "execution_count": 6,
     "metadata": {},
     "output_type": "execute_result"
    }
   ],
   "source": [
    "pvgh=condp((rand(V,H))) # emision matrix with sum(pvgh, 1) = 1 with pvgh[i, j] = p(vg = i | h = j)"
   ]
  },
  {
   "cell_type": "code",
   "execution_count": 7,
   "metadata": {
    "collapsed": false
   },
   "outputs": [],
   "source": [
    "h[1]=randgen(ph1) # initialize the hidden variable @t=1 with a random state based on ph1 distribution\n",
    "v[1]=randgen(pvgh[:,h[1]]) # initialize the visible variable @t=1 with a random state based on pvgh( vg | h@t=1)\n",
    "\n",
    "for t=2:T\n",
    "    h[t]=randgen(phghm[:,h[t-1]]) # set the hidden variable state @t based on h@t-1 using the transition matrix\n",
    "    v[t]=randgen(pvgh[:,h[t]]) # set the visible variable state @t based on h@t using the emission matrix\n",
    "end"
   ]
  },
  {
   "cell_type": "code",
   "execution_count": 8,
   "metadata": {
    "collapsed": false
   },
   "outputs": [
    {
     "name": "stdout",
     "output_type": "stream",
     "text": [
      "Log Likelihood = -28.374464749133278\n"
     ]
    }
   ],
   "source": [
    "(alpha, loglik) = HMMforward(v, phghm, ph1, pvgh); # filtering\n",
    "println(\"Log Likelihood = $loglik\")"
   ]
  },
  {
   "cell_type": "code",
   "execution_count": 9,
   "metadata": {
    "collapsed": false
   },
   "outputs": [
    {
     "data": {
      "text/plain": [
       "10x20 Array{Float64,2}:\n",
       " 4.3189e-5    1.24647e-7   8.06147e-6   …  8.06147e-6   1.39984e-6 \n",
       " 1.39984e-6   4.3189e-5    1.24647e-7      1.24647e-7   8.06147e-6 \n",
       " 0.99957      3.34372e-9   7.70298e-8      0.99957      3.34372e-9 \n",
       " 7.70298e-8   0.99957      3.34372e-9      7.70298e-8   0.99957    \n",
       " 3.34372e-9   7.70298e-8   0.99957         3.34372e-9   7.70298e-8 \n",
       " 8.06147e-6   1.39984e-6   4.3189e-5    …  4.3189e-5    1.24647e-7 \n",
       " 4.0098e-7    0.000203892  4.0098e-7       4.0098e-7    0.000203892\n",
       " 0.000203892  4.0098e-7    0.000203892     0.000203892  4.0098e-7  \n",
       " 1.24647e-7   8.06147e-6   1.39984e-6      1.39984e-6   4.3189e-5  \n",
       " 0.00017332   0.00017332   0.00017332      0.00017332   0.00017332 "
      ]
     },
     "execution_count": 9,
     "metadata": {},
     "output_type": "execute_result"
    }
   ],
   "source": [
    "gamma = HMMsmooth(v, phghm, ph1, pvgh, alpha); # smoothing"
   ]
  },
  {
   "cell_type": "code",
   "execution_count": 10,
   "metadata": {
    "collapsed": false
   },
   "outputs": [
    {
     "name": "stdout",
     "output_type": "stream",
     "text": [
      "most likely path (viterbi):\n",
      "[3 4 5 3 4 5 3 4 5 3 4 5 3 4 5 3 4 5 3 4]\n"
     ]
    }
   ],
   "source": [
    "(maxstate, logprob) = HMMviterbi(v, phghm, ph1, pvgh)\n",
    "println(\"most likely path (viterbi):\")\n",
    "println(maxstate)"
   ]
  },
  {
   "cell_type": "code",
   "execution_count": 11,
   "metadata": {
    "collapsed": false
   },
   "outputs": [
    {
     "name": "stdout",
     "output_type": "stream",
     "text": [
      "original path (hidden states):\n",
      "Integer[3 4 5 3 4 5 3 4 5 3 4 5 3 4 5 3 4 5 3 4]\n"
     ]
    }
   ],
   "source": [
    "println(\"original path (hidden states):\")\n",
    "println(h)"
   ]
  },
  {
   "cell_type": "code",
   "execution_count": 12,
   "metadata": {
    "collapsed": false
   },
   "outputs": [
    {
     "name": "stdout",
     "output_type": "stream",
     "text": [
      "original path (visible states):\n",
      "Integer[5 4 3 2 4 2 5 3 1 5 4 1 5 3 2 3 3 3 1 5]\n"
     ]
    }
   ],
   "source": [
    "println(\"original path (visible states):\")\n",
    "println(v)"
   ]
  },
  {
   "cell_type": "code",
   "execution_count": 17,
   "metadata": {
    "collapsed": false
   },
   "outputs": [
    {
     "data": {
      "image/png": "[encoded data removed]",
      "text/plain": [
       "Figure(PyObject <matplotlib.figure.Figure object at 0x10f137f10>)"
      ]
     },
     "metadata": {},
     "output_type": "display_data"
    },
    {
     "data": {
      "text/plain": [
       "PyObject <matplotlib.collections.PolyCollection object at 0x101ff6ed0>"
      ]
     },
     "execution_count": 17,
     "metadata": {},
     "output_type": "execute_result"
    }
   ],
   "source": [
    "PyPlot.figure()\n",
    "ax = PyPlot.subplot(2, 1, 1)\n",
    "ax[:set_title](\"filtering\")\n",
    "PyPlot.pcolor(alpha)\n",
    "ax = PyPlot.subplot(2, 1, 2)\n",
    "ax[:set_title](\"smoothing\")\n",
    "PyPlot.pcolor(gamma)"
   ]
  },
  {
   "cell_type": "code",
   "execution_count": null,
   "metadata": {
    "collapsed": true
   },
   "outputs": [],
   "source": []
  }
 ],
 "metadata": {
  "kernelspec": {
   "display_name": "Julia 0.4.0",
   "language": "julia",
   "name": "julia-0.4"
  },
  "language_info": {
   "file_extension": ".jl",
   "mimetype": "application/julia",
   "name": "julia",
   "version": "0.4.0"
  }
 },
 "nbformat": 4,
 "nbformat_minor": 0
}
